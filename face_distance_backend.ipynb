{
  "nbformat": 4,
  "nbformat_minor": 0,
  "metadata": {
    "colab": {
      "provenance": [],
      "authorship_tag": "ABX9TyPttm35e9yGVVpFp47vUqXl",
      "include_colab_link": true
    },
    "kernelspec": {
      "name": "python3",
      "display_name": "Python 3"
    },
    "language_info": {
      "name": "python"
    }
  },
  "cells": [
    {
      "cell_type": "markdown",
      "metadata": {
        "id": "view-in-github",
        "colab_type": "text"
      },
      "source": [
        "<a href=\"https://colab.research.google.com/github/Koushik-Pula/face-distance-detection/blob/main/face_distance_backend.ipynb\" target=\"_parent\"><img src=\"https://colab.research.google.com/assets/colab-badge.svg\" alt=\"Open In Colab\"/></a>"
      ]
    },
    {
      "cell_type": "code",
      "execution_count": null,
      "metadata": {
        "id": "LQ8UcZhgVEDy"
      },
      "outputs": [],
      "source": []
    },
    {
      "cell_type": "code",
      "source": [
        "!pip install fastapi nest-asyncio uvicorn pyngrok opencv-python-headless\n"
      ],
      "metadata": {
        "colab": {
          "base_uri": "https://localhost:8080/"
        },
        "id": "Csl7UB_5VhTU",
        "outputId": "edf678f8-6755-4654-e91e-9ad4980192f9"
      },
      "execution_count": null,
      "outputs": [
        {
          "output_type": "stream",
          "name": "stdout",
          "text": [
            "Requirement already satisfied: fastapi in /usr/local/lib/python3.11/dist-packages (0.115.6)\n",
            "Requirement already satisfied: nest-asyncio in /usr/local/lib/python3.11/dist-packages (1.6.0)\n",
            "Requirement already satisfied: uvicorn in /usr/local/lib/python3.11/dist-packages (0.34.0)\n",
            "Requirement already satisfied: pyngrok in /usr/local/lib/python3.11/dist-packages (7.2.3)\n",
            "Requirement already satisfied: opencv-python-headless in /usr/local/lib/python3.11/dist-packages (4.10.0.84)\n",
            "Requirement already satisfied: starlette<0.42.0,>=0.40.0 in /usr/local/lib/python3.11/dist-packages (from fastapi) (0.41.3)\n",
            "Requirement already satisfied: pydantic!=1.8,!=1.8.1,!=2.0.0,!=2.0.1,!=2.1.0,<3.0.0,>=1.7.4 in /usr/local/lib/python3.11/dist-packages (from fastapi) (2.10.5)\n",
            "Requirement already satisfied: typing-extensions>=4.8.0 in /usr/local/lib/python3.11/dist-packages (from fastapi) (4.12.2)\n",
            "Requirement already satisfied: click>=7.0 in /usr/local/lib/python3.11/dist-packages (from uvicorn) (8.1.8)\n",
            "Requirement already satisfied: h11>=0.8 in /usr/local/lib/python3.11/dist-packages (from uvicorn) (0.14.0)\n",
            "Requirement already satisfied: PyYAML>=5.1 in /usr/local/lib/python3.11/dist-packages (from pyngrok) (6.0.2)\n",
            "Requirement already satisfied: numpy>=1.21.2 in /usr/local/lib/python3.11/dist-packages (from opencv-python-headless) (1.26.4)\n",
            "Requirement already satisfied: annotated-types>=0.6.0 in /usr/local/lib/python3.11/dist-packages (from pydantic!=1.8,!=1.8.1,!=2.0.0,!=2.0.1,!=2.1.0,<3.0.0,>=1.7.4->fastapi) (0.7.0)\n",
            "Requirement already satisfied: pydantic-core==2.27.2 in /usr/local/lib/python3.11/dist-packages (from pydantic!=1.8,!=1.8.1,!=2.0.0,!=2.0.1,!=2.1.0,<3.0.0,>=1.7.4->fastapi) (2.27.2)\n",
            "Requirement already satisfied: anyio<5,>=3.4.0 in /usr/local/lib/python3.11/dist-packages (from starlette<0.42.0,>=0.40.0->fastapi) (3.7.1)\n",
            "Requirement already satisfied: idna>=2.8 in /usr/local/lib/python3.11/dist-packages (from anyio<5,>=3.4.0->starlette<0.42.0,>=0.40.0->fastapi) (3.10)\n",
            "Requirement already satisfied: sniffio>=1.1 in /usr/local/lib/python3.11/dist-packages (from anyio<5,>=3.4.0->starlette<0.42.0,>=0.40.0->fastapi) (1.3.1)\n"
          ]
        }
      ]
    },
    {
      "cell_type": "code",
      "source": [
        "!ngrok config add-authtoken 2rhj93L2xNq0JTijHyOSpbwHEGZ_5RujG7TdnQcH24qCaRivt"
      ],
      "metadata": {
        "colab": {
          "base_uri": "https://localhost:8080/"
        },
        "id": "-C2MbILAWWzb",
        "outputId": "ec8c8169-5979-4d87-a78d-ca4631e9a7a6"
      },
      "execution_count": null,
      "outputs": [
        {
          "output_type": "stream",
          "name": "stdout",
          "text": [
            "Authtoken saved to configuration file: /root/.config/ngrok/ngrok.yml\n"
          ]
        }
      ]
    },
    {
      "cell_type": "code",
      "source": [
        "from fastapi import FastAPI, WebSocket\n",
        "from fastapi.middleware.cors import CORSMiddleware\n",
        "from pyngrok import ngrok\n",
        "import base64\n",
        "import cv2\n",
        "import numpy as np\n",
        "import logging\n",
        "import os\n",
        "\n",
        "logging.basicConfig(level=logging.DEBUG)\n",
        "logger = logging.getLogger(__name__)\n",
        "\n",
        "app = FastAPI()\n",
        "\n",
        "app.add_middleware(\n",
        "    CORSMiddleware,\n",
        "    allow_origins=[\"*\"],\n",
        "    allow_credentials=True,\n",
        "    allow_methods=[\"*\"],\n",
        "    allow_headers=[\"*\"],\n",
        ")\n",
        "\n",
        "FOCAL_LENGTH = 540\n",
        "KNOWN_WIDTH = 0.15\n",
        "\n",
        "def detect_face_and_distance(frame, focal_length):\n",
        "    try:\n",
        "        gray = cv2.cvtColor(frame, cv2.COLOR_BGR2GRAY)\n",
        "        face_cascade = cv2.CascadeClassifier(cv2.data.haarcascades + 'haarcascade_frontalface_default.xml')\n",
        "        faces = face_cascade.detectMultiScale(gray, 1.3, 5)\n",
        "\n",
        "        if len(faces) > 0:\n",
        "            (x, y, w, h) = faces[0]\n",
        "            distance = (KNOWN_WIDTH * focal_length) / w\n",
        "            cv2.rectangle(frame, (x, y), (x+w, y+h), (0, 255, 0), 2)\n",
        "            cv2.putText(frame, f\"{distance:.2f}m\", (x, y-10), cv2.FONT_HERSHEY_SIMPLEX, 0.9, (0,255,0), 2)\n",
        "\n",
        "            logger.info(f\"Detected face at distance: {distance:.2f} meters\")\n",
        "            return distance, frame\n",
        "        return None, frame\n",
        "    except Exception as e:\n",
        "        logger.error(f\"Error in face detection: {str(e)}\")\n",
        "        return None, frame\n",
        "\n",
        "@app.websocket(\"/ws\")\n",
        "async def websocket_endpoint(websocket: WebSocket):\n",
        "    await websocket.accept()\n",
        "\n",
        "    try:\n",
        "        while True:\n",
        "            data = await websocket.receive_json()\n",
        "\n",
        "            if \"image\" not in data:\n",
        "                await websocket.send_json({\"error\": \"No image received\"})\n",
        "                continue\n",
        "\n",
        "            try:\n",
        "                img_data = base64.b64decode(data[\"image\"])\n",
        "                np_arr = np.frombuffer(img_data, np.uint8)\n",
        "                frame = cv2.imdecode(np_arr, cv2.IMREAD_COLOR)\n",
        "\n",
        "                if frame is None:\n",
        "                    logger.error(\"Failed to decode image\")\n",
        "                    await websocket.send_json({\"error\": \"Failed to decode image\"})\n",
        "                    continue\n",
        "\n",
        "                distance, processed_frame = detect_face_and_distance(frame, FOCAL_LENGTH)\n",
        "\n",
        "                _, buffer = cv2.imencode('.jpg', processed_frame)\n",
        "                jpg_as_text = base64.b64encode(buffer).decode('utf-8')\n",
        "\n",
        "                await websocket.send_json({\n",
        "                    \"image\": jpg_as_text,\n",
        "                    \"distance\": float(distance) if distance is not None else -1\n",
        "                })\n",
        "\n",
        "            except Exception as e:\n",
        "                logger.error(f\"Error processing frame: {str(e)}\")\n",
        "                await websocket.send_json({\"error\": f\"Error processing frame: {str(e)}\"})\n",
        "\n",
        "    except Exception as e:\n",
        "        logger.error(f\"WebSocket error: {str(e)}\")\n",
        "    finally:\n",
        "        logger.info(\"WebSocket connection closed\")\n",
        "\n",
        "if __name__ == \"__main__\":\n",
        "    # Create a tunnel to the FastAPI backend\n",
        "    public_url = ngrok.connect(8000)\n",
        "    print(f\"FastAPI app is running on: {public_url}\")\n",
        "\n",
        "    import uvicorn\n",
        "    uvicorn.run(app, host=\"0.0.0.0\", port=8000)\n"
      ],
      "metadata": {
        "colab": {
          "base_uri": "https://localhost:8080/"
        },
        "id": "hDIt_UC_VPui",
        "outputId": "dcef681b-1c9c-49b0-a178-9cb53084723d"
      },
      "execution_count": null,
      "outputs": [
        {
          "output_type": "stream",
          "name": "stdout",
          "text": [
            "FastAPI app is running on: NgrokTunnel: \"https://9f27-34-134-167-235.ngrok-free.app\" -> \"http://localhost:8000\"\n"
          ]
        },
        {
          "output_type": "stream",
          "name": "stderr",
          "text": [
            "INFO:     Started server process [379]\n",
            "INFO:     Waiting for application startup.\n",
            "INFO:     Application startup complete.\n",
            "INFO:     Uvicorn running on http://0.0.0.0:8000 (Press CTRL+C to quit)\n",
            "INFO:     ('14.139.177.158', 0) - \"WebSocket /ws\" [accepted]\n",
            "INFO:     connection open\n",
            "ERROR:__main__:WebSocket error: (<CloseCode.NO_STATUS_RCVD: 1005>, '')\n",
            "INFO:     connection closed\n",
            "INFO:     ('14.139.177.158', 0) - \"WebSocket /ws\" [accepted]\n",
            "INFO:     connection open\n",
            "ERROR:__main__:WebSocket error: (1001, '')\n",
            "INFO:     connection closed\n",
            "INFO:     ('14.139.177.158', 0) - \"WebSocket /ws\" [accepted]\n",
            "INFO:     connection open\n",
            "INFO:     ('14.139.177.158', 0) - \"WebSocket /ws\" [accepted]\n",
            "INFO:     connection open\n",
            "ERROR:__main__:WebSocket error: (1001, '')\n",
            "INFO:     connection closed\n",
            "INFO:     ('14.139.177.158', 0) - \"WebSocket /ws\" [accepted]\n",
            "INFO:     connection open\n",
            "ERROR:__main__:WebSocket error: (1001, '')\n",
            "INFO:     connection closed\n",
            "ERROR:__main__:WebSocket error: (<CloseCode.NO_STATUS_RCVD: 1005>, '')\n",
            "INFO:     connection closed\n",
            "INFO:     ('14.139.177.158', 0) - \"WebSocket /ws\" [accepted]\n",
            "INFO:     connection open\n",
            "ERROR:__main__:WebSocket error: (<CloseCode.NO_STATUS_RCVD: 1005>, '')\n",
            "INFO:     connection closed\n",
            "INFO:     Shutting down\n",
            "INFO:     Waiting for application shutdown.\n",
            "INFO:     Application shutdown complete.\n",
            "INFO:     Finished server process [379]\n"
          ]
        }
      ]
    }
  ]
}